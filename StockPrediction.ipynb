{
 "cells": [
  {
   "cell_type": "code",
   "execution_count": null,
   "id": "747b9178-bc95-425b-99af-bc1d69f8e73f",
   "metadata": {},
   "outputs": [],
   "source": [
    "import pandas as pd"
   ]
  },
  {
   "cell_type": "code",
   "execution_count": null,
   "id": "accba3c4-7dfe-4eef-baa1-118808599a76",
   "metadata": {},
   "outputs": [],
   "source": [
    "import numpy as np"
   ]
  },
  {
   "cell_type": "code",
   "execution_count": null,
   "id": "3e2474d8-580a-4743-bc8f-af1e389ddbe4",
   "metadata": {},
   "outputs": [],
   "source": [
    "import matplotlib.pyplot as plt"
   ]
  },
  {
   "cell_type": "code",
   "execution_count": null,
   "id": "20afed7c-12d1-4602-99f4-b31b2e8ab3f7",
   "metadata": {},
   "outputs": [],
   "source": [
    "from sklearn.preprocessing import MinMaxScaler"
   ]
  },
  {
   "cell_type": "code",
   "execution_count": null,
   "id": "f0307983-7ed5-48c1-8fa2-9216bace92dc",
   "metadata": {},
   "outputs": [],
   "source": [
    "import matplotlib.pyplot as plt"
   ]
  },
  {
   "cell_type": "code",
   "execution_count": null,
   "id": "d6dbf3ea-43b7-4b33-b380-43bc31bfb1ef",
   "metadata": {},
   "outputs": [],
   "source": [
    "import torch\n",
    "import torch.nn as nn"
   ]
  },
  {
   "cell_type": "code",
   "execution_count": null,
   "id": "0eae2adc-989e-43d2-85e4-6400e41a36aa",
   "metadata": {},
   "outputs": [],
   "source": [
    "import os"
   ]
  },
  {
   "cell_type": "code",
   "execution_count": null,
   "id": "bfcd91e6-70fe-4330-a398-4b97f462fd21",
   "metadata": {},
   "outputs": [],
   "source": [
    "os.getcwd()"
   ]
  },
  {
   "cell_type": "code",
   "execution_count": null,
   "id": "1de45766-1bcc-48b3-b048-f56e1567df40",
   "metadata": {},
   "outputs": [],
   "source": [
    "df = pd.read_csv('netflix.csv')"
   ]
  },
  {
   "cell_type": "code",
   "execution_count": null,
   "id": "218a814f-d63d-4044-bba8-ad51046fc1c3",
   "metadata": {},
   "outputs": [],
   "source": [
    "closed_prices = df[\"Close\"]"
   ]
  },
  {
   "cell_type": "code",
   "execution_count": 53,
   "id": "2561dec0-4d54-4e1b-b70b-4a5156b0683e",
   "metadata": {},
   "outputs": [
    {
     "name": "stdout",
     "output_type": "stream",
     "text": [
      "         Date      High       Low      Open     Close     Volume  Adj Close\n",
      "0  23-05-2002  1.242857  1.145714  1.156429  1.196429  104790000   1.196429\n",
      "1  24-05-2002  1.225000  1.197143  1.214286  1.210000   11104800   1.210000\n",
      "2  28-05-2002  1.232143  1.157143  1.213571  1.157143    6609400   1.157143\n",
      "3  29-05-2002  1.164286  1.085714  1.164286  1.103571    6757800   1.103571\n",
      "4  30-05-2002  1.107857  1.071429  1.107857  1.071429   10154200   1.071429\n"
     ]
    }
   ],
   "source": [
    "print(df.head())"
   ]
  },
  {
   "cell_type": "code",
   "execution_count": 52,
   "id": "fc9d4b14-2411-4338-91cd-6b905119522a",
   "metadata": {},
   "outputs": [
    {
     "name": "stdout",
     "output_type": "stream",
     "text": [
      "0         1.196429\n",
      "1         1.210000\n",
      "2         1.157143\n",
      "3         1.103571\n",
      "4         1.071429\n",
      "           ...    \n",
      "4876    634.809998\n",
      "4877    639.099976\n",
      "4878    631.849976\n",
      "4879    632.659973\n",
      "4880    627.039978\n",
      "Name: Close, Length: 4881, dtype: float64\n"
     ]
    }
   ],
   "source": [
    "print(closed_prices)"
   ]
  },
  {
   "cell_type": "code",
   "execution_count": 54,
   "id": "516421ba-952b-464d-9dae-5ec2890a3ddf",
   "metadata": {},
   "outputs": [],
   "source": [
    "seq_len = 15"
   ]
  },
  {
   "cell_type": "code",
   "execution_count": 55,
   "id": "e437290d-3c97-4455-8b0b-de93a32f138c",
   "metadata": {},
   "outputs": [],
   "source": [
    "mm=MinMaxScaler()\n",
    "scaled_price = mm.fit_transform(np.array(closed_prices)[... , None]).squeeze()"
   ]
  },
  {
   "cell_type": "code",
   "execution_count": 56,
   "id": "bd00d15f-0601-4a55-9674-b274aaea06b2",
   "metadata": {},
   "outputs": [
    {
     "name": "stdout",
     "output_type": "stream",
     "text": [
      "[0.0012894  0.00131064 0.00122789 ... 0.9886493  0.98991744 0.9811187 ]\n"
     ]
    }
   ],
   "source": [
    "print(scaled_price)"
   ]
  },
  {
   "cell_type": "code",
   "execution_count": 57,
   "id": "f403977e-a42c-4ff0-aa36-0ff1cf5944a6",
   "metadata": {},
   "outputs": [],
   "source": [
    "X = []\n",
    "y = []"
   ]
  },
  {
   "cell_type": "code",
   "execution_count": 58,
   "id": "0a48b868-2a8a-41d7-bcce-6d108fffd738",
   "metadata": {},
   "outputs": [],
   "source": [
    "for i in range(len(scaled_price) - seq_len):\n",
    "    X.append(scaled_price[i : i + seq_len])\n",
    "    y.append(scaled_price[i + seq_len])"
   ]
  },
  {
   "cell_type": "code",
   "execution_count": 59,
   "id": "5ae4795c-0325-4be1-82ca-059e495447f0",
   "metadata": {},
   "outputs": [
    {
     "name": "stdout",
     "output_type": "stream",
     "text": [
      "4866\n"
     ]
    }
   ],
   "source": [
    "print(len(X))"
   ]
  },
  {
   "cell_type": "code",
   "execution_count": 60,
   "id": "76ac45af-3546-4954-b107-6659c278bcd0",
   "metadata": {},
   "outputs": [
    {
     "name": "stdout",
     "output_type": "stream",
     "text": [
      "[0.0012894  0.00131064 0.00122789 0.00114402 0.00109369 0.00110152\n",
      " 0.00118316 0.00116638 0.00121223 0.00126703 0.0011675  0.00122677\n",
      " 0.0012223  0.00112724 0.00111159]\n"
     ]
    }
   ],
   "source": [
    "print(X[0])"
   ]
  },
  {
   "cell_type": "code",
   "execution_count": 61,
   "id": "15685ac7-4327-4cbc-82de-660a586c71fc",
   "metadata": {},
   "outputs": [],
   "source": [
    "X = np.array(X)[... , None]\n",
    "y = np.array(y)[... , None]"
   ]
  },
  {
   "cell_type": "code",
   "execution_count": 62,
   "id": "127b57d3-b214-4318-aef8-22be55e3e556",
   "metadata": {},
   "outputs": [],
   "source": [
    "train_x = torch.from_numpy(X[:int(0.8 * X.shape[0])]).float()\n",
    "train_y = torch.from_numpy(y[:int(0.8 * X.shape[0])]).float()\n",
    "test_x = torch.from_numpy(X[int(0.8 * X.shape[0]):]).float()\n",
    "test_y = torch.from_numpy(y[int(0.8 * X.shape[0]):]).float()"
   ]
  },
  {
   "cell_type": "code",
   "execution_count": 63,
   "id": "647ea454-07a0-4ecd-b52a-4959e571c8a7",
   "metadata": {},
   "outputs": [
    {
     "name": "stdout",
     "output_type": "stream",
     "text": [
      "torch.Size([3892, 15, 1]) torch.Size([974, 15, 1])\n"
     ]
    }
   ],
   "source": [
    "print(train_x.shape,test_x.shape)"
   ]
  },
  {
   "cell_type": "code",
   "execution_count": 64,
   "id": "47ec8934-087c-4abf-9497-47aa7ab6728f",
   "metadata": {},
   "outputs": [],
   "source": [
    "class Model(nn.Module):\n",
    "    def __init__(self , input_size , hidden_size):\n",
    "        super().__init__()\n",
    "        self.lstm = nn.LSTM(input_size , hidden_size , batch_first = True)\n",
    "        self.fc = nn.Linear(hidden_size , 1)\n",
    "    def forward(self , x):\n",
    "        output , (hidden , cell) = self.lstm(x)\n",
    "        return self.fc(hidden[-1 , :])\n",
    "model = Model(1 , 64)"
   ]
  },
  {
   "cell_type": "code",
   "execution_count": 65,
   "id": "a345e0df-ea89-4c7b-bf9a-fbcccb8d2f24",
   "metadata": {},
   "outputs": [],
   "source": [
    "optimizer = torch.optim.Adam(model.parameters() , lr = 0.001)\n",
    "loss_fn = nn.MSELoss()"
   ]
  },
  {
   "cell_type": "code",
   "execution_count": 66,
   "id": "9b65eb38-7406-4572-acbb-925ec123a67f",
   "metadata": {},
   "outputs": [],
   "source": [
    "num_epochs = 100"
   ]
  },
  {
   "cell_type": "code",
   "execution_count": 67,
   "id": "34c48932-c35c-46be-a7b9-89b3e9d754e2",
   "metadata": {},
   "outputs": [
    {
     "name": "stdout",
     "output_type": "stream",
     "text": [
      "10 epoch loss 0.004530976\n",
      "20 epoch loss 0.0033866097\n",
      "30 epoch loss 0.00062964077\n",
      "40 epoch loss 0.00023849781\n",
      "50 epoch loss 0.00014930166\n",
      "60 epoch loss 2.7405733e-05\n",
      "70 epoch loss 3.449415e-05\n",
      "80 epoch loss 2.5732272e-05\n",
      "90 epoch loss 2.1957028e-05\n"
     ]
    }
   ],
   "source": [
    "for epoch in range(num_epochs):\n",
    "    output = model(train_x)\n",
    "    loss = loss_fn(output , train_y)\n",
    "\n",
    "    optimizer.zero_grad()\n",
    "    loss.backward()\n",
    "    optimizer.step()\n",
    "\n",
    "    if epoch % 10 == 0 and epoch != 0:\n",
    "        print(epoch , \"epoch loss\" , loss.detach().numpy())"
   ]
  },
  {
   "cell_type": "code",
   "execution_count": 69,
   "id": "17a2d622-3f87-4f49-8001-108e68587cca",
   "metadata": {},
   "outputs": [
    {
     "data": {
      "image/png": "[encoded data removed]",
      "text/plain": [
       "<Figure size 640x480 with 1 Axes>"
      ]
     },
     "metadata": {},
     "output_type": "display_data"
    }
   ],
   "source": [
    "model.eval()\n",
    "with torch.no_grad():\n",
    "    output = model(test_x)\n",
    "\n",
    "pred = mm.inverse_transform(output.numpy())\n",
    "real = mm.inverse_transform(test_y.numpy())\n",
    "\n",
    "plt.plot(pred.squeeze() , color = \"red\" , label = \"predicted\")\n",
    "plt.plot(real.squeeze() , color = \"green\" , label = \"real\")\n",
    "plt.show()"
   ]
  }
 ],
 "metadata": {
  "kernelspec": {
   "display_name": "Python 3 (ipykernel)",
   "language": "python",
   "name": "python3"
  },
  "language_info": {
   "codemirror_mode": {
    "name": "ipython",
    "version": 3
   },
   "file_extension": ".py",
   "mimetype": "text/x-python",
   "name": "python",
   "nbconvert_exporter": "python",
   "pygments_lexer": "ipython3",
   "version": "3.12.7"
  }
 },
 "nbformat": 4,
 "nbformat_minor": 5
}
