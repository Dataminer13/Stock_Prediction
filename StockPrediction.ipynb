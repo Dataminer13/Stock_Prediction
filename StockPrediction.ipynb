{
 "cells": [
  {
   "cell_type": "markdown",
   "id": "1d8caec6-0244-42cb-80d4-42207ec4e739",
   "metadata": {},
   "source": [
    "import pandas as pd"
   ]
  },
  {
   "cell_type": "markdown",
   "id": "2bdd8648-f2b3-42f5-aabc-352939bd9fe9",
   "metadata": {},
   "source": [
    "import numpy as np"
   ]
  },
  {
   "cell_type": "markdown",
   "id": "8d9a4835-e308-4650-b384-625c58875e83",
   "metadata": {},
   "source": [
    "import matplotlib.pyplot as plt"
   ]
  },
  {
   "cell_type": "markdown",
   "id": "b354e3f0-6e41-480f-8e58-2331a1663772",
   "metadata": {},
   "source": [
    "from sklearn.preprocessing import MinMaxScaler"
   ]
  },
  {
   "cell_type": "markdown",
   "id": "8dc45ae7-2dac-46bd-ac69-2a52f4dec6fd",
   "metadata": {},
   "source": [
    "import matplotlib.pyplot as plt"
   ]
  },
  {
   "cell_type": "markdown",
   "id": "29acbd95-56ce-434d-87ba-4c9035e8add4",
   "metadata": {},
   "source": [
    "import torch\n",
    "import torch.nn as nn"
   ]
  },
  {
   "cell_type": "markdown",
   "id": "f3c6f4db-990d-44e8-be84-2bc72834a060",
   "metadata": {},
   "source": [
    "import os"
   ]
  },
  {
   "cell_type": "markdown",
   "id": "956dcf7d-34aa-47c5-bc5b-f27c2c57b161",
   "metadata": {},
   "source": [
    "os.getcwd()"
   ]
  },
  {
   "cell_type": "markdown",
   "id": "18a67df2-a116-4407-92cd-2fee097c85ce",
   "metadata": {},
   "source": [
    "df = pd.read_csv('netflix.csv')"
   ]
  },
  {
   "cell_type": "markdown",
   "id": "d076440a-2fb8-4388-8484-7ea85717ee76",
   "metadata": {},
   "source": [
    "closed_prices = df[\"Close\"]"
   ]
  },
  {
   "cell_type": "markdown",
   "id": "80c8618a-7271-45ae-bf15-3465dd615e37",
   "metadata": {},
   "source": [
    "print(df.head())"
   ]
  },
  {
   "cell_type": "markdown",
   "id": "5f0e3e60-86b2-49bd-aee4-9dd2d3021557",
   "metadata": {},
   "source": [
    "print(closed_prices)"
   ]
  },
  {
   "cell_type": "markdown",
   "id": "4a75a501-2cc8-4fad-9658-82ba359ffb37",
   "metadata": {},
   "source": [
    "seq_len = 15"
   ]
  },
  {
   "cell_type": "markdown",
   "id": "5fc492ff-5089-4fc8-9e10-d16793193754",
   "metadata": {},
   "source": [
    "mm=MinMaxScaler()\n",
    "scaled_price = mm.fit_transform(np.array(closed_prices)[... , None]).squeeze()"
   ]
  },
  {
   "cell_type": "markdown",
   "id": "09dfc52e-2394-43a5-9823-e27885c47ca1",
   "metadata": {},
   "source": [
    "print(scaled_price)"
   ]
  },
  {
   "cell_type": "markdown",
   "id": "6d64cbea-8d9d-49a3-9ec6-832bb366d192",
   "metadata": {},
   "source": [
    "X = []\n",
    "y = []"
   ]
  },
  {
   "cell_type": "markdown",
   "id": "f19548bc-6ddd-4f7c-8ed4-19cf320ea54a",
   "metadata": {},
   "source": [
    "for i in range(len(scaled_price) - seq_len):\n",
    "    X.append(scaled_price[i : i + seq_len])\n",
    "    y.append(scaled_price[i + seq_len])"
   ]
  },
  {
   "cell_type": "markdown",
   "id": "6b5751dc-33d9-47fd-a2ba-8b7afde8eb05",
   "metadata": {},
   "source": [
    "print(len(X))"
   ]
  },
  {
   "cell_type": "markdown",
   "id": "7a8bcda8-2dd4-41be-8b80-320b2986c369",
   "metadata": {},
   "source": [
    "print(X[0])"
   ]
  },
  {
   "cell_type": "markdown",
   "id": "90479167-8bcb-4798-ada2-aac1df15e53c",
   "metadata": {},
   "source": [
    "X = np.array(X)[... , None]\n",
    "y = np.array(y)[... , None]"
   ]
  },
  {
   "cell_type": "markdown",
   "id": "43124618-4e39-466a-a592-90d423bc36a5",
   "metadata": {},
   "source": [
    "train_x = torch.from_numpy(X[:int(0.8 * X.shape[0])]).float()\n",
    "train_y = torch.from_numpy(y[:int(0.8 * X.shape[0])]).float()\n",
    "test_x = torch.from_numpy(X[int(0.8 * X.shape[0]):]).float()\n",
    "test_y = torch.from_numpy(y[int(0.8 * X.shape[0]):]).float()"
   ]
  },
  {
   "cell_type": "markdown",
   "id": "a0f18426-ed1e-430f-8cbf-3cd247f1e647",
   "metadata": {},
   "source": [
    "print(train_x.shape,test_x.shape)"
   ]
  },
  {
   "cell_type": "markdown",
   "id": "7fe1356c-68ab-497f-9df1-de500a25c1f9",
   "metadata": {},
   "source": [
    "class Model(nn.Module):\n",
    "    def __init__(self , input_size , hidden_size):\n",
    "        super().__init__()\n",
    "        self.lstm = nn.LSTM(input_size , hidden_size , batch_first = True)\n",
    "        self.fc = nn.Linear(hidden_size , 1)\n",
    "    def forward(self , x):\n",
    "        output , (hidden , cell) = self.lstm(x)\n",
    "        return self.fc(hidden[-1 , :])\n",
    "model = Model(1 , 64)"
   ]
  },
  {
   "cell_type": "markdown",
   "id": "f1ad397e-a8e8-4087-80a0-aa0905b244da",
   "metadata": {},
   "source": [
    "optimizer = torch.optim.Adam(model.parameters() , lr = 0.001)\n",
    "loss_fn = nn.MSELoss()"
   ]
  },
  {
   "cell_type": "markdown",
   "id": "769bb97f-c4c7-4635-88da-2942c05db51a",
   "metadata": {},
   "source": [
    "num_epochs = 100"
   ]
  },
  {
   "cell_type": "markdown",
   "id": "e15ee1bf-037f-4f8b-a969-5d287227a2a3",
   "metadata": {},
   "source": [
    "for epoch in range(num_epochs):\n",
    "    output = model(train_x)\n",
    "    loss = loss_fn(output , train_y)\n",
    "\n",
    "    optimizer.zero_grad()\n",
    "    loss.backward()\n",
    "    optimizer.step()\n",
    "\n",
    "    if epoch % 10 == 0 and epoch != 0:\n",
    "        print(epoch , \"epoch loss\" , loss.detach().numpy())"
   ]
  },
  {
   "cell_type": "markdown",
   "id": "d221ae47-5e07-4368-b1b3-2942019e359e",
   "metadata": {},
   "source": [
    "model.eval()\n",
    "with torch.no_grad():\n",
    "    output = model(test_x)\n",
    "\n",
    "pred = mm.inverse_transform(output.numpy())\n",
    "real = mm.inverse_transform(test_y.numpy())\n",
    "\n",
    "plt.plot(pred.squeeze() , color = \"red\" , label = \"predicted\")\n",
    "plt.plot(real.squeeze() , color = \"green\" , label = \"real\")\n",
    "plt.show()"
   ]
  }
 ],
 "metadata": {
  "kernelspec": {
   "display_name": "Python 3 (ipykernel)",
   "language": "python",
   "name": "python3"
  },
  "language_info": {
   "codemirror_mode": {
    "name": "ipython",
    "version": 3
   },
   "file_extension": ".py",
   "mimetype": "text/x-python",
   "name": "python",
   "nbconvert_exporter": "python",
   "pygments_lexer": "ipython3",
   "version": "3.12.7"
  }
 },
 "nbformat": 4,
 "nbformat_minor": 5
}
