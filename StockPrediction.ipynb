{
 "cells": [
  {
   "cell_type": "code",
   "execution_count": 17,
   "id": "b88709fb-83c4-4d4f-9d16-122139c7a4af",
   "metadata": {},
   "outputs": [],
   "source": [
    "import pandas as pd"
   ]
  },
  {
   "cell_type": "code",
   "execution_count": 13,
   "id": "880b05a1-14cf-4185-93ae-f52aa3c5092f",
   "metadata": {},
   "outputs": [],
   "source": [
    "import numpy as np"
   ]
  },
  {
   "cell_type": "code",
   "execution_count": 41,
   "id": "0fe62c44-c7b8-4f7e-848e-de025b0b63f6",
   "metadata": {},
   "outputs": [],
   "source": [
    "import matplotlib.pyplot as plt"
   ]
  },
  {
   "cell_type": "code",
   "execution_count": 11,
   "id": "70100b27-8e38-4a98-a874-cbd4a26d8bbf",
   "metadata": {},
   "outputs": [],
   "source": [
    "from sklearn.preprocessing import MinMaxScaler"
   ]
  },
  {
   "cell_type": "code",
   "execution_count": 8,
   "id": "a0af0144-570f-4dd6-a127-217810751b73",
   "metadata": {},
   "outputs": [],
   "source": [
    "import matplotlib.pyplot as plt"
   ]
  },
  {
   "cell_type": "code",
   "execution_count": 32,
   "id": "a40e7e0f-efca-4b0e-a090-afbc1ea489de",
   "metadata": {},
   "outputs": [],
   "source": [
    "import torch\n",
    "import torch.nn as nn"
   ]
  },
  {
   "cell_type": "code",
   "execution_count": 18,
   "id": "7b7029c3-0c05-4f75-ac78-1f0d76ca0a75",
   "metadata": {},
   "outputs": [],
   "source": [
    "import os"
   ]
  },
  {
   "cell_type": "code",
   "execution_count": 19,
   "id": "f984267b-f97c-4726-b364-81dce1824430",
   "metadata": {},
   "outputs": [
    {
     "data": {
      "text/plain": [
       "'C:\\\\Users\\\\ashish-kharat'"
      ]
     },
     "execution_count": 19,
     "metadata": {},
     "output_type": "execute_result"
    }
   ],
   "source": [
    "os.getcwd()"
   ]
  },
  {
   "cell_type": "code",
   "execution_count": 18,
   "id": "516de050-4f25-4775-a589-44c621cdecf6",
   "metadata": {},
   "outputs": [],
   "source": [
    "df = pd.read_csv('netflix.csv')"
   ]
  },
  {
   "cell_type": "code",
   "execution_count": 19,
   "id": "bb4284a6-87f0-4360-8fd6-2d87c83aacfe",
   "metadata": {},
   "outputs": [],
   "source": [
    "closed_prices = df[\"Close\"]"
   ]
  },
  {
   "cell_type": "code",
   "execution_count": 22,
   "id": "97c7b98e-db3e-417d-a72b-a0ba9e87fc83",
   "metadata": {},
   "outputs": [
    {
     "name": "stdout",
     "output_type": "stream",
     "text": [
      "         Date      High       Low      Open     Close     Volume  Adj Close\n",
      "0  23-05-2002  1.242857  1.145714  1.156429  1.196429  104790000   1.196429\n",
      "1  24-05-2002  1.225000  1.197143  1.214286  1.210000   11104800   1.210000\n",
      "2  28-05-2002  1.232143  1.157143  1.213571  1.157143    6609400   1.157143\n",
      "3  29-05-2002  1.164286  1.085714  1.164286  1.103571    6757800   1.103571\n",
      "4  30-05-2002  1.107857  1.071429  1.107857  1.071429   10154200   1.071429\n"
     ]
    }
   ],
   "source": [
    "print(df.head())"
   ]
  },
  {
   "cell_type": "code",
   "execution_count": 23,
   "id": "d1e0fa4f-8ca2-43e5-909a-8007c4712c51",
   "metadata": {},
   "outputs": [
    {
     "name": "stdout",
     "output_type": "stream",
     "text": [
      "0         1.196429\n",
      "1         1.210000\n",
      "2         1.157143\n",
      "3         1.103571\n",
      "4         1.071429\n",
      "           ...    \n",
      "4876    634.809998\n",
      "4877    639.099976\n",
      "4878    631.849976\n",
      "4879    632.659973\n",
      "4880    627.039978\n",
      "Name: Close, Length: 4881, dtype: float64\n"
     ]
    }
   ],
   "source": [
    "print(closed_prices)"
   ]
  },
  {
   "cell_type": "code",
   "execution_count": 5,
   "id": "e3b18923-6e78-435e-bec7-4be981701c5c",
   "metadata": {},
   "outputs": [],
   "source": [
    "seq_len = 15"
   ]
  },
  {
   "cell_type": "code",
   "execution_count": 20,
   "id": "16198ff3-f238-45c7-99f0-8fe5f6e8f0ea",
   "metadata": {},
   "outputs": [],
   "source": [
    "mm=MinMaxScaler()\n",
    "scaled_price = mm.fit_transform(np.array(closed_prices)[... , None]).squeeze()"
   ]
  },
  {
   "cell_type": "code",
   "execution_count": 21,
   "id": "e17a9dbc-6a2e-411d-aa61-d0835492fcf8",
   "metadata": {},
   "outputs": [
    {
     "name": "stdout",
     "output_type": "stream",
     "text": [
      "[0.0012894  0.00131064 0.00122789 ... 0.9886493  0.98991744 0.9811187 ]\n"
     ]
    }
   ],
   "source": [
    "print(scaled_price)"
   ]
  },
  {
   "cell_type": "code",
   "execution_count": 22,
   "id": "0fd1767a-76f8-4352-ac68-dbbbf2706b29",
   "metadata": {},
   "outputs": [],
   "source": [
    "X = []\n",
    "y = []"
   ]
  },
  {
   "cell_type": "code",
   "execution_count": 23,
   "id": "3ce7e003-33f5-4486-8b50-3c14351af3a2",
   "metadata": {},
   "outputs": [],
   "source": [
    "for i in range(len(scaled_price) - seq_len):\n",
    "    X.append(scaled_price[i : i + seq_len])\n",
    "    y.append(scaled_price[i + seq_len])"
   ]
  },
  {
   "cell_type": "code",
   "execution_count": 29,
   "id": "c1162801-90b2-4b6d-b806-af99b49eaf47",
   "metadata": {},
   "outputs": [
    {
     "name": "stdout",
     "output_type": "stream",
     "text": [
      "4866\n"
     ]
    }
   ],
   "source": [
    "print(len(X))"
   ]
  },
  {
   "cell_type": "code",
   "execution_count": 28,
   "id": "91a7c7af-97de-4c3e-8443-9875c3cdfd43",
   "metadata": {},
   "outputs": [
    {
     "name": "stdout",
     "output_type": "stream",
     "text": [
      "[0.0012894  0.00131064 0.00122789 0.00114402 0.00109369 0.00110152\n",
      " 0.00118316 0.00116638 0.00121223 0.00126703 0.0011675  0.00122677\n",
      " 0.0012223  0.00112724 0.00111159]\n"
     ]
    }
   ],
   "source": [
    "print(X[0])"
   ]
  },
  {
   "cell_type": "code",
   "execution_count": 30,
   "id": "1452e1ec-de38-4489-87d0-f12fb8011921",
   "metadata": {},
   "outputs": [],
   "source": [
    "X = np.array(X)[... , None]\n",
    "y = np.array(y)[... , None]"
   ]
  },
  {
   "cell_type": "code",
   "execution_count": 33,
   "id": "bd0fa9d5-8241-46d9-8b8f-13b3eee584a5",
   "metadata": {},
   "outputs": [],
   "source": [
    "train_x = torch.from_numpy(X[:int(0.8 * X.shape[0])]).float()\n",
    "train_y = torch.from_numpy(y[:int(0.8 * X.shape[0])]).float()\n",
    "test_x = torch.from_numpy(X[int(0.8 * X.shape[0]):]).float()\n",
    "test_y = torch.from_numpy(y[int(0.8 * X.shape[0]):]).float()"
   ]
  },
  {
   "cell_type": "code",
   "execution_count": 34,
   "id": "2ed749af-a23c-432b-bc71-0e3ed232c6ef",
   "metadata": {},
   "outputs": [
    {
     "name": "stdout",
     "output_type": "stream",
     "text": [
      "torch.Size([3892, 15, 1]) torch.Size([974, 15, 1])\n"
     ]
    }
   ],
   "source": [
    "print(train_x.shape,test_x.shape)"
   ]
  },
  {
   "cell_type": "code",
   "execution_count": 35,
   "id": "7197c960-79f8-47af-89b2-58c8c2df6ee3",
   "metadata": {},
   "outputs": [],
   "source": [
    "class Model(nn.Module):\n",
    "    def __init__(self , input_size , hidden_size):\n",
    "        super().__init__()\n",
    "        self.lstm = nn.LSTM(input_size , hidden_size , batch_first = True)\n",
    "        self.fc = nn.Linear(hidden_size , 1)\n",
    "    def forward(self , x):\n",
    "        output , (hidden , cell) = self.lstm(x)\n",
    "        return self.fc(hidden[-1 , :])\n",
    "model = Model(1 , 64)"
   ]
  },
  {
   "cell_type": "code",
   "execution_count": 36,
   "id": "91308072-7a79-44a2-ad3c-8971d9503cbf",
   "metadata": {},
   "outputs": [],
   "source": [
    "optimizer = torch.optim.Adam(model.parameters() , lr = 0.001)\n",
    "loss_fn = nn.MSELoss()"
   ]
  },
  {
   "cell_type": "code",
   "execution_count": 37,
   "id": "00fac20e-b1a3-4009-9ddb-5eebf49bc5ea",
   "metadata": {},
   "outputs": [],
   "source": [
    "num_epochs = 100"
   ]
  },
  {
   "cell_type": "code",
   "execution_count": 38,
   "id": "1aa92c6e-ac19-4c20-8b1a-b1551ef57646",
   "metadata": {},
   "outputs": [
    {
     "name": "stdout",
     "output_type": "stream",
     "text": [
      "10 epoch loss 0.004860703\n",
      "20 epoch loss 0.0043727\n",
      "30 epoch loss 0.0037112387\n",
      "40 epoch loss 0.0024561097\n",
      "50 epoch loss 7.7358316e-05\n",
      "60 epoch loss 5.5068034e-05\n",
      "70 epoch loss 8.974477e-05\n",
      "80 epoch loss 6.399667e-05\n",
      "90 epoch loss 4.3537402e-05\n"
     ]
    }
   ],
   "source": [
    "for epoch in range(num_epochs):\n",
    "    output = model(train_x)\n",
    "    loss = loss_fn(output , train_y)\n",
    "\n",
    "    optimizer.zero_grad()\n",
    "    loss.backward()\n",
    "    optimizer.step()\n",
    "\n",
    "    if epoch % 10 == 0 and epoch != 0:\n",
    "        print(epoch , \"epoch loss\" , loss.detach().numpy())"
   ]
  },
  {
   "cell_type": "code",
   "execution_count": 43,
   "id": "49e58d2d-9ff4-4162-a218-623669f2c86e",
   "metadata": {},
   "outputs": [
    {
     "data": {
      "image/png": "[encoded data removed]",
      "text/plain": [
       "<Figure size 640x480 with 1 Axes>"
      ]
     },
     "metadata": {},
     "output_type": "display_data"
    }
   ],
   "source": [
    "model.eval()\n",
    "with torch.no_grad():\n",
    "    output = model(test_x)\n",
    "\n",
    "pred = mm.inverse_transform(output.numpy())\n",
    "real = mm.inverse_transform(test_y.numpy())\n",
    "\n",
    "plt.plot(pred.squeeze() , color = \"red\" , label = \"predicted\")\n",
    "plt.plot(real.squeeze() , color = \"green\" , label = \"real\")\n",
    "plt.show()"
   ]
  }
 ],
 "metadata": {
  "kernelspec": {
   "display_name": "Python 3 (ipykernel)",
   "language": "python",
   "name": "python3"
  },
  "language_info": {
   "codemirror_mode": {
    "name": "ipython",
    "version": 3
   },
   "file_extension": ".py",
   "mimetype": "text/x-python",
   "name": "python",
   "nbconvert_exporter": "python",
   "pygments_lexer": "ipython3",
   "version": "3.12.7"
  }
 },
 "nbformat": 4,
 "nbformat_minor": 5
}
